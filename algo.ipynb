{
 "cells": [
  {
   "cell_type": "code",
   "execution_count": 1,
   "metadata": {},
   "outputs": [],
   "source": [
    "class Node:\n",
    "    def __init__(self, value) -> None:\n",
    "        self.value = value\n",
    "        self.next = None"
   ]
  },
  {
   "cell_type": "code",
   "execution_count": 2,
   "metadata": {},
   "outputs": [],
   "source": [
    "def manuallyCreateList(arr):\n",
    "    if not arr:\n",
    "        return None\n",
    "    head = Node(arr[0])\n",
    "    curr = head\n",
    "    for i in arr[1:]:\n",
    "        curr.next = Node(i)\n",
    "        curr = curr.next\n",
    "    return head"
   ]
  },
  {
   "cell_type": "code",
   "execution_count": 25,
   "metadata": {},
   "outputs": [],
   "source": [
    "arr = list(range(10))\n",
    "head = manuallyCreateList(arr)"
   ]
  },
  {
   "cell_type": "code",
   "execution_count": 5,
   "metadata": {},
   "outputs": [],
   "source": [
    "def printList(curr):\n",
    "    while curr:\n",
    "        print(curr.value, end = ' -> ')\n",
    "        curr = curr.next\n",
    "    print(None)"
   ]
  },
  {
   "cell_type": "code",
   "execution_count": 18,
   "metadata": {},
   "outputs": [
    {
     "name": "stdout",
     "output_type": "stream",
     "text": [
      "[1, 3, 0, 2, 6, 8]\n",
      "1 -> 3 -> 0 -> 2 -> 6 -> 8 -> None\n"
     ]
    }
   ],
   "source": [
    "print(arr)\n",
    "printList(head)"
   ]
  },
  {
   "cell_type": "code",
   "execution_count": 20,
   "metadata": {},
   "outputs": [
    {
     "name": "stdout",
     "output_type": "stream",
     "text": [
      "total of list =  20\n"
     ]
    }
   ],
   "source": [
    "def sumList(head):\n",
    "    total = 0\n",
    "    curr = head\n",
    "    while curr:\n",
    "        total += curr.value\n",
    "        curr = curr.next\n",
    "    return total\n",
    "print('total of list = ', sumList(head))"
   ]
  },
  {
   "cell_type": "code",
   "execution_count": 24,
   "metadata": {},
   "outputs": [
    {
     "name": "stdout",
     "output_type": "stream",
     "text": [
      "1 -> 3 -> 0 -> 2 -> 6 -> 8 -> None\n",
      "min value of list =  0\n"
     ]
    }
   ],
   "source": [
    "def minList(head):\n",
    "    min = float('inf')\n",
    "    curr = head\n",
    "    while curr:\n",
    "        if min > curr.value:\n",
    "            min = curr.value\n",
    "        curr = curr.next\n",
    "    return min\n",
    "\n",
    "printList(head)\n",
    "print('min value of list = ', minList(head))"
   ]
  },
  {
   "cell_type": "code",
   "execution_count": 25,
   "metadata": {},
   "outputs": [
    {
     "name": "stdout",
     "output_type": "stream",
     "text": [
      "1 -> 3 -> 0 -> 2 -> 6 -> 8 -> None\n",
      "max value of list =  8\n"
     ]
    }
   ],
   "source": [
    "def maxList(head):\n",
    "    max = float('-inf')\n",
    "    curr = head\n",
    "    while curr:\n",
    "        if max < curr.value:\n",
    "            max = curr.value\n",
    "        curr = curr.next\n",
    "    return max\n",
    "\n",
    "printList(head)\n",
    "print('max value of list = ', maxList(head))"
   ]
  },
  {
   "cell_type": "code",
   "execution_count": 29,
   "metadata": {},
   "outputs": [
    {
     "name": "stdout",
     "output_type": "stream",
     "text": [
      "1 -> 3 -> 0 -> 2 -> 6 -> 8 -> None\n",
      "total = 20, count = 6, avg = 3.3333333333333335\n"
     ]
    }
   ],
   "source": [
    "def avgList(head):\n",
    "    s = 0\n",
    "    c = 0\n",
    "    curr = head\n",
    "    while curr:\n",
    "        s += curr.value\n",
    "        c += 1\n",
    "        curr = curr.next\n",
    "    return f'total = {s}, count = {c}, avg = {s/c}' if c else 'total = 0, count = 0, avg = 0'\n",
    "\n",
    "printList(head)\n",
    "print(avgList(head))"
   ]
  },
  {
   "cell_type": "code",
   "execution_count": 34,
   "metadata": {},
   "outputs": [
    {
     "name": "stdout",
     "output_type": "stream",
     "text": [
      "1 -> 3 -> 0 -> 2 -> 6 -> 8 -> None\n",
      "False\n",
      "True\n"
     ]
    }
   ],
   "source": [
    "def findInList(head, target):\n",
    "    if not head:\n",
    "        return False\n",
    "    return head.value == target or findInList(head.next, target)\n",
    "\n",
    "printList(head)\n",
    "print(findInList(head, 5))\n",
    "print(findInList(head, 6))"
   ]
  },
  {
   "cell_type": "code",
   "execution_count": 36,
   "metadata": {},
   "outputs": [
    {
     "name": "stdout",
     "output_type": "stream",
     "text": [
      "1 -> 3 -> 0 -> 2 -> 6 -> 8 -> None\n",
      "False\n",
      "True\n"
     ]
    }
   ],
   "source": [
    "def findInList2(head, target):\n",
    "    if not head:\n",
    "        return None\n",
    "    curr = head\n",
    "    while curr:\n",
    "        if curr.value == target:\n",
    "            return True\n",
    "        curr = curr.next\n",
    "    return False\n",
    "\n",
    "printList(head)\n",
    "print(findInList2(head, 5))\n",
    "print(findInList2(head, 6))"
   ]
  },
  {
   "cell_type": "code",
   "execution_count": 6,
   "metadata": {},
   "outputs": [
    {
     "name": "stdout",
     "output_type": "stream",
     "text": [
      "0 -> 1 -> 2 -> 3 -> 4 -> 5 -> 6 -> 7 -> 8 -> 9 -> None\n"
     ]
    }
   ],
   "source": [
    "printList(head)"
   ]
  },
  {
   "cell_type": "code",
   "execution_count": 16,
   "metadata": {},
   "outputs": [
    {
     "name": "stdout",
     "output_type": "stream",
     "text": [
      "0 -> 1 -> 2 -> 3 -> 4 -> 5 -> 6 -> 7 -> 8 -> 9 -> None\n",
      "0 -> None\n"
     ]
    }
   ],
   "source": [
    "\n",
    "def reverse(head):\n",
    "    if not head or not head.next:\n",
    "        return head\n",
    "    \n",
    "    pred, curr, sled = None, None, head\n",
    "\n",
    "    #2,1,3,4\n",
    "    #4,1,2,3\n",
    "    #4,2,1,3\n",
    "    #4,2,3,1\n",
    "\n",
    "    while sled:\n",
    "        curr = sled #2\n",
    "        curr.next = pred #3\n",
    "        pred = curr  #4\n",
    "        sled = sled.next #1\n",
    "\n",
    "    return curr\n",
    "\n",
    "\n",
    "head = manuallyCreateList(arr)\n",
    "printList(head)\n",
    "head = reverse(head)\n",
    "printList(head)"
   ]
  },
  {
   "cell_type": "code",
   "execution_count": 17,
   "metadata": {},
   "outputs": [
    {
     "name": "stdout",
     "output_type": "stream",
     "text": [
      "0 -> 1 -> 2 -> 3 -> 4 -> 5 -> 6 -> 7 -> 8 -> 9 -> None\n",
      "9 -> 8 -> 7 -> 6 -> 5 -> 4 -> 3 -> 2 -> 1 -> 0 -> None\n"
     ]
    }
   ],
   "source": [
    "def reverse2(head):\n",
    "    if not head or not head.next:\n",
    "        return head\n",
    "    \n",
    "    nhead = reverse2(head.next)\n",
    "    head.next.next = head\n",
    "    head.next = None\n",
    "    return nhead\n",
    "\n",
    "\n",
    "\n",
    "head = manuallyCreateList(arr)\n",
    "printList(head)\n",
    "head = reverse2(head)\n",
    "printList(head)"
   ]
  },
  {
   "cell_type": "code",
   "execution_count": 19,
   "metadata": {},
   "outputs": [
    {
     "name": "stdout",
     "output_type": "stream",
     "text": [
      "9 -> 8 -> 7 -> 6 -> 5 -> 4 -> 3 -> 2 -> 1 -> 0 -> None\n"
     ]
    }
   ],
   "source": [
    "printList(head)"
   ]
  },
  {
   "cell_type": "code",
   "execution_count": 31,
   "metadata": {},
   "outputs": [
    {
     "name": "stdout",
     "output_type": "stream",
     "text": [
      "0 -> 1 -> 2 -> 3 -> 4 -> 5 -> 6 -> 7 -> 8 -> 9 -> None\n",
      "0 -> 1 -> 2 -> 3 -> 4 -> 10 -> 5 -> 6 -> 7 -> 8 -> 9 -> None\n"
     ]
    }
   ],
   "source": [
    "head = manuallyCreateList(range(10))\n",
    "def findNode(head, value):\n",
    "    curr = head\n",
    "    while curr:\n",
    "        if curr.value == value:\n",
    "            return curr\n",
    "        curr = curr.next\n",
    "    return None\n",
    "\n",
    "printList(head)\n",
    "\n",
    "curr = findNode(head, 4)\n",
    "node = Node(10)\n",
    "\n",
    "# next_n = curr.next\n",
    "# node.next = next_n\n",
    "# curr.next = node\n",
    "\n",
    "# node.next = curr.next\n",
    "# curr.next = node\n",
    "\n",
    "#curr.next, node.next = node, curr.next\n",
    "\n",
    "#node.next, curr.next= curr.next, node\n",
    "\n",
    "t1 = node\n",
    "t2 = curr.next\n",
    "curr.next = t1\n",
    "node.next = t2\n",
    "\n",
    "printList(head)\n",
    "\n"
   ]
  },
  {
   "cell_type": "code",
   "execution_count": 38,
   "metadata": {},
   "outputs": [
    {
     "name": "stdout",
     "output_type": "stream",
     "text": [
      "0 -> 1 -> 2 -> 3 -> 4 -> 5 -> 6 -> 7 -> 8 -> 9 -> None\n",
      "curr =  4\n",
      "value to be deleted =  5\n"
     ]
    },
    {
     "ename": "NameError",
     "evalue": "name 'node' is not defined",
     "output_type": "error",
     "traceback": [
      "\u001b[1;31m---------------------------------------------------------------------------\u001b[0m",
      "\u001b[1;31mNameError\u001b[0m                                 Traceback (most recent call last)",
      "Cell \u001b[1;32mIn[38], line 17\u001b[0m\n\u001b[0;32m     14\u001b[0m curr\u001b[38;5;241m.\u001b[39mnext \u001b[38;5;241m=\u001b[39m curr\u001b[38;5;241m.\u001b[39mnext\u001b[38;5;241m.\u001b[39mnext\n\u001b[0;32m     15\u001b[0m \u001b[38;5;28;01mdel\u001b[39;00m node\n\u001b[1;32m---> 17\u001b[0m \u001b[38;5;28mprint\u001b[39m(\u001b[38;5;124m'\u001b[39m\u001b[38;5;124mdeleted value = \u001b[39m\u001b[38;5;124m'\u001b[39m, \u001b[43mnode\u001b[49m\u001b[38;5;241m.\u001b[39mvalue)\n\u001b[0;32m     18\u001b[0m printList(head)\n",
      "\u001b[1;31mNameError\u001b[0m: name 'node' is not defined"
     ]
    }
   ],
   "source": [
    "head = manuallyCreateList(range(10))\n",
    "\n",
    "printList(head)\n",
    "\n",
    "\n",
    "curr = head.next.next.next.next\n",
    "print('curr = ', curr.value)\n",
    "\n",
    "tmp = curr.next\n",
    "print('value to be deleted = ', tmp.value)\n",
    "\n",
    "# deleting\n",
    "node = curr.next\n",
    "curr.next = curr.next.next\n",
    "del node\n",
    "\n",
    "print('deleted value = ', node.value)\n",
    "printList(head)\n"
   ]
  },
  {
   "cell_type": "code",
   "execution_count": 42,
   "metadata": {},
   "outputs": [
    {
     "name": "stdout",
     "output_type": "stream",
     "text": [
      "[1, 2, 3, 4, 5]\n",
      "1 -> 2 -> 3 -> 4 -> 5 -> None\n",
      "[1, 2, 3, 5]\n",
      "1 -> 2 -> 3 -> 5 -> None\n"
     ]
    }
   ],
   "source": [
    "arr = [1, 2, 3, 4, 5]\n",
    "print(arr)\n",
    "head = manuallyCreateList(arr)\n",
    "printList(head)\n",
    "arr.pop(-2)\n",
    "print(arr)\n",
    "head = manuallyCreateList(arr)\n",
    "printList(head)"
   ]
  },
  {
   "cell_type": "code",
   "execution_count": null,
   "metadata": {},
   "outputs": [],
   "source": []
  }
 ],
 "metadata": {
  "kernelspec": {
   "display_name": "Python 3",
   "language": "python",
   "name": "python3"
  },
  "language_info": {
   "codemirror_mode": {
    "name": "ipython",
    "version": 3
   },
   "file_extension": ".py",
   "mimetype": "text/x-python",
   "name": "python",
   "nbconvert_exporter": "python",
   "pygments_lexer": "ipython3",
   "version": "3.11.9"
  }
 },
 "nbformat": 4,
 "nbformat_minor": 2
}
